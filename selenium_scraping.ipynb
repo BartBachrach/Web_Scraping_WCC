{
 "cells": [
  {
   "cell_type": "code",
   "execution_count": null,
   "metadata": {},
   "outputs": [],
   "source": [
    "from selenium import webdriver \n",
    "import pandas as pd\n",
    "from splinter import Browser\n",
    "from selenium.webdriver.chrome.service import Service\n",
    "from webdriver_manager.chrome import ChromeDriverManager\n",
    "from webdriver_manager.core.utils import ChromeType\n",
    "from selenium.webdriver.common.by import By\n",
    "import time\n",
    "from selenium.webdriver.common.action_chains import ActionChains\n",
    "from selenium.webdriver.support.ui import WebDriverWait\n",
    "from selenium.webdriver.support import expected_conditions as EC"
   ]
  },
  {
   "cell_type": "code",
   "execution_count": null,
   "metadata": {},
   "outputs": [],
   "source": [
    "driver = webdriver.Chrome(service=Service(ChromeDriverManager().install()))\n",
    "driver.maximize_window()\n",
    "driver.get('https://propertyinfo.knoxcountytn.gov/search/CommonSearch.aspx?mode=REALPROP')\n",
    "actions = ActionChains(driver)"
   ]
  },
  {
   "cell_type": "code",
   "execution_count": null,
   "metadata": {},
   "outputs": [],
   "source": [
    "driver.find_element(By.ID, 'btAgree').click()"
   ]
  },
  {
   "cell_type": "code",
   "execution_count": null,
   "metadata": {},
   "outputs": [],
   "source": [
    "driver.find_element(By.NAME, 'inpNo').send_keys('5709')\n",
    "driver.find_element(By.NAME, 'inpStreet').send_keys('LYONS VIEW')\n",
    "driver.find_element(By.ID, 'btSearch').click()"
   ]
  },
  {
   "cell_type": "code",
   "execution_count": null,
   "metadata": {},
   "outputs": [],
   "source": [
    "results = driver.find_elements(By.CLASS_NAME, 'SearchResults')\n",
    "results"
   ]
  },
  {
   "cell_type": "code",
   "execution_count": null,
   "metadata": {},
   "outputs": [],
   "source": [
    "# list_len = len(results)\n",
    "# list_count = 0\n",
    "\n",
    "# while(list_count < list_len):\n",
    "#     find = driver.find_elements(By.CLASS_NAME, 'SearchResults')\n",
    "#     find[list_count].click()\n",
    "#     driver.back()\n",
    "#     break"
   ]
  },
  {
   "cell_type": "code",
   "execution_count": null,
   "metadata": {},
   "outputs": [],
   "source": [
    "names = []\n",
    "addresses = []\n",
    "page_counter = 0\n",
    "max_pages = 13\n",
    "\n",
    "while (page_counter < max_pages):\n",
    "    # enumerate assigns a number to each element so we can count it; index, val = the number and it's corresponding value \n",
    "    for index, val in enumerate(results):\n",
    "        # get the results in a list, which has been enumerated\n",
    "        results = driver.find_elements(By.CLASS_NAME, 'SearchResults')\n",
    "        # move to the Nth link in the results\n",
    "        actions.move_to_element(results[index]).perform()\n",
    "        # click the results at index N\n",
    "        results[index].click()\n",
    "        # this is the name element of the page\n",
    "        name = driver.find_element(By.XPATH, '//*[@id=\"Owner Information\"]/tbody/tr[1]/td[2]')\n",
    "        # this is the address element of the page\n",
    "        address = driver.find_element(By.XPATH, '//*[@id=\"Owner Information\"]/tbody/tr[2]/td[2]')\n",
    "        print(f'Name: {name.text}, Address: {address.text}')\n",
    "        names.append(name.text)\n",
    "        addresses.append(address.text)\n",
    "        d = {'Name': names, 'Address': addresses}\n",
    "        residents_df = pd.DataFrame(d, columns=['Name', 'Address'])\n",
    "        # tell the browser to go back and go to the next link\n",
    "        driver.back()\n",
    "\n",
    "        WebDriverWait(driver, 20).until(EC.visibility_of_element_located((By.CLASS_NAME, 'SearchResults')))\n",
    "        time.sleep(3)\n",
    "    driver.find_element(By.LINK_TEXT, 'Next >>').click()\n",
    "    time.sleep(15)\n",
    "    page_counter += 1     \n",
    "\n",
    "    \n",
    "    "
   ]
  },
  {
   "cell_type": "code",
   "execution_count": null,
   "metadata": {},
   "outputs": [],
   "source": [
    "residents_df"
   ]
  },
  {
   "cell_type": "code",
   "execution_count": null,
   "metadata": {},
   "outputs": [],
   "source": []
  }
 ],
 "metadata": {
  "kernelspec": {
   "display_name": "Python 3.9.12 ('Python_Venv': venv)",
   "language": "python",
   "name": "python3"
  },
  "language_info": {
   "codemirror_mode": {
    "name": "ipython",
    "version": 3
   },
   "file_extension": ".py",
   "mimetype": "text/x-python",
   "name": "python",
   "nbconvert_exporter": "python",
   "pygments_lexer": "ipython3",
   "version": "3.9.12"
  },
  "orig_nbformat": 4,
  "vscode": {
   "interpreter": {
    "hash": "7f32d092e8ce575ef2d3e68d956b1eaa11b03b5b393f4e637b64a72a6fb1078a"
   }
  }
 },
 "nbformat": 4,
 "nbformat_minor": 2
}
